{
 "cells": [
  {
   "cell_type": "code",
   "execution_count": null,
   "id": "ef22b98f",
   "metadata": {},
   "outputs": [],
   "source": [
    "import pandas as pd\n",
    "import sklearn\n",
    "import matplotlib.pyplot as plt  # Fixed: 'matplotlib as plt' → 'matplotlib.pyplot as plt'\n",
    "\n",
    "from sklearn.decomposition import PCA, IncrementalPCA\n",
    "from sklearn.preprocessing import StandardScaler  # Fixed: 'StandarScaler' → 'StandardScaler'\n",
    "from sklearn.linear_model import LogisticRegression\n",
    "from sklearn.model_selection import train_test_split\n",
    "\n",
    "path=\"/home/dan/PLATZI/data/SKlearn_Orchestration/skLearn_Orchestration/data/third_part/\"\n",
    "file=\"heart.csv\"\n",
    "df=pd.read_csv(path+file)"
   ]
  },
  {
   "cell_type": "code",
   "execution_count": 2,
   "id": "8482bb1e",
   "metadata": {},
   "outputs": [
    {
     "data": {
      "text/html": [
       "<div>\n",
       "<style scoped>\n",
       "    .dataframe tbody tr th:only-of-type {\n",
       "        vertical-align: middle;\n",
       "    }\n",
       "\n",
       "    .dataframe tbody tr th {\n",
       "        vertical-align: top;\n",
       "    }\n",
       "\n",
       "    .dataframe thead th {\n",
       "        text-align: right;\n",
       "    }\n",
       "</style>\n",
       "<table border=\"1\" class=\"dataframe\">\n",
       "  <thead>\n",
       "    <tr style=\"text-align: right;\">\n",
       "      <th></th>\n",
       "      <th>age</th>\n",
       "      <th>sex</th>\n",
       "      <th>cp</th>\n",
       "      <th>trestbps</th>\n",
       "      <th>chol</th>\n",
       "      <th>fbs</th>\n",
       "      <th>restecg</th>\n",
       "      <th>thalach</th>\n",
       "      <th>exang</th>\n",
       "      <th>oldpeak</th>\n",
       "      <th>slope</th>\n",
       "      <th>ca</th>\n",
       "      <th>thal</th>\n",
       "    </tr>\n",
       "  </thead>\n",
       "  <tbody>\n",
       "    <tr>\n",
       "      <th>61</th>\n",
       "      <td>66</td>\n",
       "      <td>0</td>\n",
       "      <td>2</td>\n",
       "      <td>146</td>\n",
       "      <td>278</td>\n",
       "      <td>0</td>\n",
       "      <td>0</td>\n",
       "      <td>152</td>\n",
       "      <td>0</td>\n",
       "      <td>0.0</td>\n",
       "      <td>1</td>\n",
       "      <td>1</td>\n",
       "      <td>2</td>\n",
       "    </tr>\n",
       "    <tr>\n",
       "      <th>476</th>\n",
       "      <td>57</td>\n",
       "      <td>1</td>\n",
       "      <td>0</td>\n",
       "      <td>165</td>\n",
       "      <td>289</td>\n",
       "      <td>1</td>\n",
       "      <td>0</td>\n",
       "      <td>124</td>\n",
       "      <td>0</td>\n",
       "      <td>1.0</td>\n",
       "      <td>1</td>\n",
       "      <td>3</td>\n",
       "      <td>3</td>\n",
       "    </tr>\n",
       "    <tr>\n",
       "      <th>238</th>\n",
       "      <td>60</td>\n",
       "      <td>1</td>\n",
       "      <td>0</td>\n",
       "      <td>117</td>\n",
       "      <td>230</td>\n",
       "      <td>1</td>\n",
       "      <td>1</td>\n",
       "      <td>160</td>\n",
       "      <td>1</td>\n",
       "      <td>1.4</td>\n",
       "      <td>2</td>\n",
       "      <td>2</td>\n",
       "      <td>3</td>\n",
       "    </tr>\n",
       "    <tr>\n",
       "      <th>190</th>\n",
       "      <td>41</td>\n",
       "      <td>1</td>\n",
       "      <td>2</td>\n",
       "      <td>112</td>\n",
       "      <td>250</td>\n",
       "      <td>0</td>\n",
       "      <td>1</td>\n",
       "      <td>179</td>\n",
       "      <td>0</td>\n",
       "      <td>0.0</td>\n",
       "      <td>2</td>\n",
       "      <td>0</td>\n",
       "      <td>2</td>\n",
       "    </tr>\n",
       "  </tbody>\n",
       "</table>\n",
       "</div>"
      ],
      "text/plain": [
       "     age  sex  cp  trestbps  chol  fbs  restecg  thalach  exang  oldpeak  \\\n",
       "61    66    0   2       146   278    0        0      152      0      0.0   \n",
       "476   57    1   0       165   289    1        0      124      0      1.0   \n",
       "238   60    1   0       117   230    1        1      160      1      1.4   \n",
       "190   41    1   2       112   250    0        1      179      0      0.0   \n",
       "\n",
       "     slope  ca  thal  \n",
       "61       1   1     2  \n",
       "476      1   3     3  \n",
       "238      2   2     3  \n",
       "190      2   0     2  "
      ]
     },
     "execution_count": 2,
     "metadata": {},
     "output_type": "execute_result"
    }
   ],
   "source": [
    "df_features=df.drop([\"target\"],axis=1)\n",
    "df_features.sample(4)"
   ]
  },
  {
   "cell_type": "code",
   "execution_count": 3,
   "id": "ba58bcf3",
   "metadata": {},
   "outputs": [],
   "source": [
    "df_target=df[\"target\"]"
   ]
  },
  {
   "cell_type": "code",
   "execution_count": 4,
   "id": "9b9f2d84",
   "metadata": {},
   "outputs": [],
   "source": [
    "#normalization\n",
    "df_features=StandardScaler().fit_transform(df_features)\n",
    "#split\n",
    "X_train,X_test,Y_train,Y_test=train_test_split(df_features,df_target,test_size=0.25,random_state=37)\n"
   ]
  },
  {
   "cell_type": "code",
   "execution_count": 8,
   "id": "057839ef",
   "metadata": {},
   "outputs": [
    {
     "name": "stdout",
     "output_type": "stream",
     "text": [
      "here the variance of the components[0.21419059 0.12436593 0.0958789  0.08669756]\n",
      "now the ones with incremental pca[0.21393898 0.12389329 0.0937706  0.08294379]\n"
     ]
    },
    {
     "data": {
      "text/plain": [
       "thalach     0.431794\n",
       "oldpeak     0.402505\n",
       "exang       0.379148\n",
       "slope       0.373866\n",
       "age         0.319731\n",
       "cp          0.301202\n",
       "ca          0.248313\n",
       "thal        0.200290\n",
       "trestbps    0.169481\n",
       "chol        0.141641\n",
       "restecg     0.129245\n",
       "sex         0.066264\n",
       "fbs         0.058376\n",
       "dtype: float64"
      ]
     },
     "execution_count": 8,
     "metadata": {},
     "output_type": "execute_result"
    }
   ],
   "source": [
    "pca=PCA(n_components=4)\n",
    "pca.fit(X_train)\n",
    "ipca=IncrementalPCA(n_components=4,batch_size=300)#for low resorces in your pc\n",
    "ipca.fit(X_train)\n",
    "pc1_weights=pd.Series(pca.components_[0], index=df.drop(\"target\", axis=1).columns).abs().sort_values(ascending=False)\n",
    "print(f\"here the variance of the components{pca.explained_variance_ratio_}\")\n",
    "print(f\"now the ones with incremental pca{ipca.explained_variance_ratio_}\")\n",
    "pc1_weights\n"
   ]
  },
  {
   "cell_type": "markdown",
   "id": "164bfbbd",
   "metadata": {},
   "source": [
    "the weights of the features on each pca axis come from the engeine vectores from the covariance matrix, now we can know how much a feature  is represented in the axis, now the ratios is wich porcentage of the variance is reprecented in the pca_ratio, with this we can know if the axis we  are using  are valuable compresions of our features"
   ]
  },
  {
   "cell_type": "code",
   "execution_count": 6,
   "id": "edf39502",
   "metadata": {},
   "outputs": [
    {
     "data": {
      "text/plain": [
       "dtype('float64')"
      ]
     },
     "execution_count": 6,
     "metadata": {},
     "output_type": "execute_result"
    }
   ],
   "source": [
    "df_features.dtype"
   ]
  },
  {
   "cell_type": "markdown",
   "id": "ad071002",
   "metadata": {},
   "source": [
    "logistic regrassion"
   ]
  },
  {
   "cell_type": "code",
   "execution_count": 14,
   "id": "28f416d0",
   "metadata": {},
   "outputs": [
    {
     "name": "stdout",
     "output_type": "stream",
     "text": [
      "pca scores:0.8132295719844358\n",
      "pca scores:0.8404669260700389\n"
     ]
    }
   ],
   "source": [
    "log=LogisticRegression(solver='lbfgs')\n",
    "dt_train=pca.transform(X_train)\n",
    "dt_test=pca.transform(X_test)\n",
    "log.fit(dt_train,Y_train)\n",
    "print(f\"pca scores:{log.score(dt_test,Y_test)}\")\n",
    "\n",
    "log=LogisticRegression(solver='lbfgs')\n",
    "dt_train=ipca.transform(X_train)\n",
    "dt_test=ipca.transform(X_test)\n",
    "log.fit(dt_train,Y_train)\n",
    "print(f\"pca scores:{log.score(dt_test,Y_test)}\")"
   ]
  },
  {
   "cell_type": "markdown",
   "id": "f5b7b40f",
   "metadata": {},
   "source": [
    "que es un solver? es un algoritmo para minimisar la funcion objetivo como gradient decent?"
   ]
  },
  {
   "cell_type": "code",
   "execution_count": 21,
   "id": "58043b6c",
   "metadata": {},
   "outputs": [
    {
     "name": "stdout",
     "output_type": "stream",
     "text": [
      "Kpca scores:0.8054474708171206\n"
     ]
    }
   ],
   "source": [
    "from sklearn.decomposition import KernelPCA\n",
    "KPCA=KernelPCA(n_components=3,kernel='rbf')\n",
    "KPCA.fit(X_train)\n",
    "dt_train=KPCA.transform(X_train)\n",
    "dt_test=KPCA.transform(X_test)\n",
    "log=LogisticRegression(solver='lbfgs').fit(dt_train,Y_train)\n",
    "print(f\"Kpca scores:{log.score(dt_test,Y_test)}\")\n"
   ]
  },
  {
   "cell_type": "code",
   "execution_count": null,
   "id": "43394062",
   "metadata": {},
   "outputs": [],
   "source": []
  }
 ],
 "metadata": {
  "kernelspec": {
   "display_name": "sklearnProject",
   "language": "python",
   "name": "python3"
  },
  "language_info": {
   "codemirror_mode": {
    "name": "ipython",
    "version": 3
   },
   "file_extension": ".py",
   "mimetype": "text/x-python",
   "name": "python",
   "nbconvert_exporter": "python",
   "pygments_lexer": "ipython3",
   "version": "3.9.23"
  }
 },
 "nbformat": 4,
 "nbformat_minor": 5
}
