{
 "cells": [
  {
   "cell_type": "code",
   "execution_count": 4,
   "id": "ef22b98f",
   "metadata": {},
   "outputs": [],
   "source": [
    "import pandas as pd\n",
    "import sklearn\n",
    "import matplotlib.pyplot as plt  # Fixed: 'matplotlib as plt' → 'matplotlib.pyplot as plt'\n",
    "\n",
    "from sklearn.decomposition import PCA, IncrementalPCA\n",
    "from sklearn.preprocessing import StandardScaler  # Fixed: 'StandarScaler' → 'StandardScaler'\n",
    "from sklearn.linear_model import LogisticRegression\n",
    "from sklearn.model_selection import train_test_split\n",
    "\n",
    "path=\"/home/dan/PLATZI/data/SKlearn_Orchestration/skLearn_Orchestration/data/third_part/\"\n",
    "file=\"heart.csv\"\n",
    "df=pd.read_csv(path+file)"
   ]
  },
  {
   "cell_type": "code",
   "execution_count": 6,
   "id": "8482bb1e",
   "metadata": {},
   "outputs": [
    {
     "data": {
      "text/html": [
       "<div>\n",
       "<style scoped>\n",
       "    .dataframe tbody tr th:only-of-type {\n",
       "        vertical-align: middle;\n",
       "    }\n",
       "\n",
       "    .dataframe tbody tr th {\n",
       "        vertical-align: top;\n",
       "    }\n",
       "\n",
       "    .dataframe thead th {\n",
       "        text-align: right;\n",
       "    }\n",
       "</style>\n",
       "<table border=\"1\" class=\"dataframe\">\n",
       "  <thead>\n",
       "    <tr style=\"text-align: right;\">\n",
       "      <th></th>\n",
       "      <th>age</th>\n",
       "      <th>sex</th>\n",
       "      <th>cp</th>\n",
       "      <th>trestbps</th>\n",
       "      <th>chol</th>\n",
       "      <th>fbs</th>\n",
       "      <th>restecg</th>\n",
       "      <th>thalach</th>\n",
       "      <th>exang</th>\n",
       "      <th>oldpeak</th>\n",
       "      <th>slope</th>\n",
       "      <th>ca</th>\n",
       "      <th>thal</th>\n",
       "    </tr>\n",
       "  </thead>\n",
       "  <tbody>\n",
       "    <tr>\n",
       "      <th>311</th>\n",
       "      <td>48</td>\n",
       "      <td>1</td>\n",
       "      <td>0</td>\n",
       "      <td>130</td>\n",
       "      <td>256</td>\n",
       "      <td>1</td>\n",
       "      <td>0</td>\n",
       "      <td>150</td>\n",
       "      <td>1</td>\n",
       "      <td>0.0</td>\n",
       "      <td>2</td>\n",
       "      <td>2</td>\n",
       "      <td>3</td>\n",
       "    </tr>\n",
       "    <tr>\n",
       "      <th>733</th>\n",
       "      <td>44</td>\n",
       "      <td>0</td>\n",
       "      <td>2</td>\n",
       "      <td>108</td>\n",
       "      <td>141</td>\n",
       "      <td>0</td>\n",
       "      <td>1</td>\n",
       "      <td>175</td>\n",
       "      <td>0</td>\n",
       "      <td>0.6</td>\n",
       "      <td>1</td>\n",
       "      <td>0</td>\n",
       "      <td>2</td>\n",
       "    </tr>\n",
       "    <tr>\n",
       "      <th>257</th>\n",
       "      <td>64</td>\n",
       "      <td>0</td>\n",
       "      <td>0</td>\n",
       "      <td>180</td>\n",
       "      <td>325</td>\n",
       "      <td>0</td>\n",
       "      <td>1</td>\n",
       "      <td>154</td>\n",
       "      <td>1</td>\n",
       "      <td>0.0</td>\n",
       "      <td>2</td>\n",
       "      <td>0</td>\n",
       "      <td>2</td>\n",
       "    </tr>\n",
       "    <tr>\n",
       "      <th>736</th>\n",
       "      <td>59</td>\n",
       "      <td>1</td>\n",
       "      <td>0</td>\n",
       "      <td>110</td>\n",
       "      <td>239</td>\n",
       "      <td>0</td>\n",
       "      <td>0</td>\n",
       "      <td>142</td>\n",
       "      <td>1</td>\n",
       "      <td>1.2</td>\n",
       "      <td>1</td>\n",
       "      <td>1</td>\n",
       "      <td>3</td>\n",
       "    </tr>\n",
       "  </tbody>\n",
       "</table>\n",
       "</div>"
      ],
      "text/plain": [
       "     age  sex  cp  trestbps  chol  fbs  restecg  thalach  exang  oldpeak  \\\n",
       "311   48    1   0       130   256    1        0      150      1      0.0   \n",
       "733   44    0   2       108   141    0        1      175      0      0.6   \n",
       "257   64    0   0       180   325    0        1      154      1      0.0   \n",
       "736   59    1   0       110   239    0        0      142      1      1.2   \n",
       "\n",
       "     slope  ca  thal  \n",
       "311      2   2     3  \n",
       "733      1   0     2  \n",
       "257      2   0     2  \n",
       "736      1   1     3  "
      ]
     },
     "execution_count": 6,
     "metadata": {},
     "output_type": "execute_result"
    }
   ],
   "source": [
    "df_features=df.drop([\"target\"],axis=1)\n",
    "df_features.sample(4)"
   ]
  },
  {
   "cell_type": "code",
   "execution_count": 7,
   "id": "ba58bcf3",
   "metadata": {},
   "outputs": [],
   "source": [
    "df_target=df[\"target\"]"
   ]
  },
  {
   "cell_type": "code",
   "execution_count": 8,
   "id": "9b9f2d84",
   "metadata": {},
   "outputs": [],
   "source": [
    "#normalization\n",
    "df_features=StandardScaler().fit_transform(df_features)\n",
    "#split\n",
    "X_train,X_test,Y_train,Y_test=train_test_split(df_features,df_target,test_size=0.25,random_state=37)\n"
   ]
  },
  {
   "cell_type": "code",
   "execution_count": 9,
   "id": "057839ef",
   "metadata": {},
   "outputs": [
    {
     "ename": "AttributeError",
     "evalue": "'numpy.ndarray' object has no attribute 'columns'",
     "output_type": "error",
     "traceback": [
      "\u001b[0;31m---------------------------------------------------------------------------\u001b[0m",
      "\u001b[0;31mAttributeError\u001b[0m                            Traceback (most recent call last)",
      "Cell \u001b[0;32mIn[9], line 5\u001b[0m\n\u001b[1;32m      3\u001b[0m ipca\u001b[38;5;241m=\u001b[39mIncrementalPCA(n_components\u001b[38;5;241m=\u001b[39m\u001b[38;5;241m4\u001b[39m,batch_size\u001b[38;5;241m=\u001b[39m\u001b[38;5;241m300\u001b[39m)\u001b[38;5;66;03m#for low resorces in your pc\u001b[39;00m\n\u001b[1;32m      4\u001b[0m ipca\u001b[38;5;241m.\u001b[39mfit(X_train)\n\u001b[0;32m----> 5\u001b[0m pc1_weights\u001b[38;5;241m=\u001b[39mpd\u001b[38;5;241m.\u001b[39mSeries(pca\u001b[38;5;241m.\u001b[39mcomponents_[\u001b[38;5;241m0\u001b[39m],index\u001b[38;5;241m=\u001b[39m\u001b[43mdf_features\u001b[49m\u001b[38;5;241;43m.\u001b[39;49m\u001b[43mcolumns\u001b[49m)\u001b[38;5;241m.\u001b[39mabs()\u001b[38;5;241m.\u001b[39msort_values(ascending\u001b[38;5;241m=\u001b[39m\u001b[38;5;28;01mFalse\u001b[39;00m)\n\u001b[1;32m      6\u001b[0m \u001b[38;5;28mprint\u001b[39m(\u001b[38;5;124mf\u001b[39m\u001b[38;5;124m\"\u001b[39m\u001b[38;5;124mhere the variance of the components\u001b[39m\u001b[38;5;132;01m{\u001b[39;00mpca\u001b[38;5;241m.\u001b[39mexplained_variance_\u001b[38;5;132;01m}\u001b[39;00m\u001b[38;5;124m\"\u001b[39m)\n\u001b[1;32m      7\u001b[0m \u001b[38;5;28mprint\u001b[39m(\u001b[38;5;124mf\u001b[39m\u001b[38;5;124m\"\u001b[39m\u001b[38;5;124mnow the ones with incremental pca\u001b[39m\u001b[38;5;132;01m{\u001b[39;00mipca\u001b[38;5;241m.\u001b[39mexplained_variance_\u001b[38;5;132;01m}\u001b[39;00m\u001b[38;5;124m\"\u001b[39m)\n",
      "\u001b[0;31mAttributeError\u001b[0m: 'numpy.ndarray' object has no attribute 'columns'"
     ]
    }
   ],
   "source": [
    "pca=PCA(n_components=4)\n",
    "pca.fit(X_train)\n",
    "ipca=IncrementalPCA(n_components=4,batch_size=300)#for low resorces in your pc\n",
    "ipca.fit(X_train)\n",
    "pc1_weights=pd.Series(pca.components_[0],index=df_features.columns).abs().sort_values(ascending=False)\n",
    "print(f\"here the variance of the components{pca.explained_variance_}\")\n",
    "print(f\"now the ones with incremental pca{ipca.explained_variance_}\")\n",
    "pc1_weights\n"
   ]
  },
  {
   "cell_type": "markdown",
   "id": "164bfbbd",
   "metadata": {},
   "source": [
    "interpretation of PCA values , feature importancies weigths and how the original features  fit here."
   ]
  },
  {
   "cell_type": "code",
   "execution_count": 10,
   "id": "edf39502",
   "metadata": {},
   "outputs": [
    {
     "data": {
      "text/plain": [
       "dtype('float64')"
      ]
     },
     "execution_count": 10,
     "metadata": {},
     "output_type": "execute_result"
    }
   ],
   "source": [
    "df_features.dtype"
   ]
  },
  {
   "cell_type": "markdown",
   "id": "ad071002",
   "metadata": {},
   "source": [
    "logistic regrassion"
   ]
  },
  {
   "cell_type": "code",
   "execution_count": 14,
   "id": "28f416d0",
   "metadata": {},
   "outputs": [
    {
     "name": "stdout",
     "output_type": "stream",
     "text": [
      "pca scores:0.8132295719844358\n",
      "pca scores:0.8404669260700389\n"
     ]
    }
   ],
   "source": [
    "log=LogisticRegression(solver='lbfgs')\n",
    "dt_train=pca.transform(X_train)\n",
    "dt_test=pca.transform(X_test)\n",
    "log.fit(dt_train,Y_train)\n",
    "print(f\"pca scores:{log.score(dt_test,Y_test)}\")\n",
    "\n",
    "log=LogisticRegression(solver='lbfgs')\n",
    "dt_train=ipca.transform(X_train)\n",
    "dt_test=ipca.transform(X_test)\n",
    "log.fit(dt_train,Y_train)\n",
    "print(f\"pca scores:{log.score(dt_test,Y_test)}\")"
   ]
  },
  {
   "cell_type": "markdown",
   "id": "f5b7b40f",
   "metadata": {},
   "source": [
    "que es un solver? es un algoritmo para minimisar la funcion objetivo como gradient decent?"
   ]
  },
  {
   "cell_type": "code",
   "execution_count": 21,
   "id": "58043b6c",
   "metadata": {},
   "outputs": [
    {
     "name": "stdout",
     "output_type": "stream",
     "text": [
      "Kpca scores:0.8054474708171206\n"
     ]
    }
   ],
   "source": [
    "from sklearn.decomposition import KernelPCA\n",
    "KPCA=KernelPCA(n_components=3,kernel='rbf')\n",
    "KPCA.fit(X_train)\n",
    "dt_train=KPCA.transform(X_train)\n",
    "dt_test=KPCA.transform(X_test)\n",
    "log=LogisticRegression(solver='lbfgs').fit(dt_train,Y_train)\n",
    "print(f\"Kpca scores:{log.score(dt_test,Y_test)}\")\n"
   ]
  },
  {
   "cell_type": "code",
   "execution_count": null,
   "id": "43394062",
   "metadata": {},
   "outputs": [],
   "source": []
  }
 ],
 "metadata": {
  "kernelspec": {
   "display_name": "sklearnProject",
   "language": "python",
   "name": "python3"
  },
  "language_info": {
   "codemirror_mode": {
    "name": "ipython",
    "version": 3
   },
   "file_extension": ".py",
   "mimetype": "text/x-python",
   "name": "python",
   "nbconvert_exporter": "python",
   "pygments_lexer": "ipython3",
   "version": "3.9.23"
  }
 },
 "nbformat": 4,
 "nbformat_minor": 5
}
