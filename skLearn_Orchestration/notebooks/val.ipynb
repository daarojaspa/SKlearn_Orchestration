{
 "cells": [
  {
   "cell_type": "markdown",
   "id": "3e0de86c",
   "metadata": {},
   "source": [
    "Validation can be done by just the train test split that is normally done in fast prototiping , Kfolds cross validation, that consists on dividing the dataset in k parts using  k-1 of them for training  the other ones for testing ,  messure   and then rotate  the one that was used for testing  is use now for trainning and one of the trainning subsets that was not jet used for testing is used for testing, training an testing the modle again and agin k times, then the avg of the metrics is taken s the matric of the model.\n",
    "a more intanse kcase of k fold cross val is one sample, where k is equal to the number of samples in the data set, the rest is the same."
   ]
  },
  {
   "cell_type": "code",
   "execution_count": 2,
   "id": "c4aac2ef",
   "metadata": {},
   "outputs": [],
   "source": [
    "import pandas as pd\n",
    "import numpy as np\n",
    "from sklearn.tree import DecisionTreeRegressor\n",
    "from sklearn.model_selection import cross_val_score, KFold\n",
    "path=\"/home/dan/PLATZI/data/SKlearn_Orchestration/skLearn_Orchestration/data/third_part/\"\n",
    "file=\"felicidad.csv\"\n",
    "df=pd.read_csv(path+file)\n",
    "features_df=df.drop([\"country\",\"score\"], axis=1)\n",
    "target=df[\"score\"]\n",
    "features_df.shape   \n",
    "model=DecisionTreeRegressor()"
   ]
  },
  {
   "cell_type": "code",
   "execution_count": 3,
   "id": "00f5a92f",
   "metadata": {},
   "outputs": [
    {
     "name": "stdout",
     "output_type": "stream",
     "text": [
      "0.5714259983647134\n"
     ]
    }
   ],
   "source": [
    "score=cross_val_score(model,features_df,target,cv=3,scoring=\"neg_mean_squared_error\")\n",
    "print(np.abs(np.mean(score)))\n",
    "#this is a compress way using cv to  decide the number of folds"
   ]
  },
  {
   "cell_type": "code",
   "execution_count": 4,
   "id": "0cdce8b9",
   "metadata": {},
   "outputs": [
    {
     "name": "stdout",
     "output_type": "stream",
     "text": [
      "train_index [  0   1   7   8  11  14  15  17  18  19  20  21  22  24  25  26  28  30\n",
      "  31  32  33  34  35  36  38  39  42  43  44  45  46  47  49  50  51  52\n",
      "  53  54  55  56  57  58  60  61  62  63  64  65  67  68  70  71  74  76\n",
      "  77  78  80  83  84  85  86  88  89  90  91  92  93  95  96  98  99 101\n",
      " 103 105 106 107 109 112 113 114 115 116 122 123 124 126 127 129 130 131\n",
      " 132 133 134 137 138 139 140 143 146 148 149 150 152] =*1024\n"
     ]
    },
    {
     "ename": "KeyError",
     "evalue": "\"None of [Index([  2,   3,   4,   5,   6,   9,  10,  12,  13,  16,  23,  27,  29,  37,\\n        40,  41,  48,  59,  66,  69,  72,  73,  75,  79,  81,  82,  87,  94,\\n        97, 100, 102, 104, 108, 110, 111, 117, 118, 119, 120, 121, 125, 128,\\n       135, 136, 141, 142, 144, 145, 147, 151, 153, 154],\\n      dtype='int64')] are in the [columns]\"",
     "output_type": "error",
     "traceback": [
      "\u001b[0;31m---------------------------------------------------------------------------\u001b[0m",
      "\u001b[0;31mKeyError\u001b[0m                                  Traceback (most recent call last)",
      "Cell \u001b[0;32mIn[4], line 5\u001b[0m\n\u001b[1;32m      3\u001b[0m \u001b[38;5;28;01mfor\u001b[39;00m train_index,test_index \u001b[38;5;129;01min\u001b[39;00m kf\u001b[38;5;241m.\u001b[39msplit(df\u001b[38;5;241m.\u001b[39mdrop(\u001b[38;5;124m\"\u001b[39m\u001b[38;5;124mcountry\u001b[39m\u001b[38;5;124m\"\u001b[39m,axis\u001b[38;5;241m=\u001b[39m\u001b[38;5;241m1\u001b[39m)):\n\u001b[1;32m      4\u001b[0m     \u001b[38;5;28mprint\u001b[39m(\u001b[38;5;124m\"\u001b[39m\u001b[38;5;124mtrain_index\u001b[39m\u001b[38;5;124m\"\u001b[39m,train_index,\u001b[38;5;124m\"\u001b[39m\u001b[38;5;124m=*1024\u001b[39m\u001b[38;5;124m\"\u001b[39m)\n\u001b[0;32m----> 5\u001b[0m     \u001b[38;5;28mprint\u001b[39m(\u001b[43mdf\u001b[49m\u001b[43m[\u001b[49m\u001b[43mtest_index\u001b[49m\u001b[43m]\u001b[49m)\n",
      "File \u001b[0;32m~/anaconda3/envs/sklearnProject/lib/python3.9/site-packages/pandas/core/frame.py:4113\u001b[0m, in \u001b[0;36mDataFrame.__getitem__\u001b[0;34m(self, key)\u001b[0m\n\u001b[1;32m   4111\u001b[0m     \u001b[38;5;28;01mif\u001b[39;00m is_iterator(key):\n\u001b[1;32m   4112\u001b[0m         key \u001b[38;5;241m=\u001b[39m \u001b[38;5;28mlist\u001b[39m(key)\n\u001b[0;32m-> 4113\u001b[0m     indexer \u001b[38;5;241m=\u001b[39m \u001b[38;5;28;43mself\u001b[39;49m\u001b[38;5;241;43m.\u001b[39;49m\u001b[43mcolumns\u001b[49m\u001b[38;5;241;43m.\u001b[39;49m\u001b[43m_get_indexer_strict\u001b[49m\u001b[43m(\u001b[49m\u001b[43mkey\u001b[49m\u001b[43m,\u001b[49m\u001b[43m \u001b[49m\u001b[38;5;124;43m\"\u001b[39;49m\u001b[38;5;124;43mcolumns\u001b[39;49m\u001b[38;5;124;43m\"\u001b[39;49m\u001b[43m)\u001b[49m[\u001b[38;5;241m1\u001b[39m]\n\u001b[1;32m   4115\u001b[0m \u001b[38;5;66;03m# take() does not accept boolean indexers\u001b[39;00m\n\u001b[1;32m   4116\u001b[0m \u001b[38;5;28;01mif\u001b[39;00m \u001b[38;5;28mgetattr\u001b[39m(indexer, \u001b[38;5;124m\"\u001b[39m\u001b[38;5;124mdtype\u001b[39m\u001b[38;5;124m\"\u001b[39m, \u001b[38;5;28;01mNone\u001b[39;00m) \u001b[38;5;241m==\u001b[39m \u001b[38;5;28mbool\u001b[39m:\n",
      "File \u001b[0;32m~/anaconda3/envs/sklearnProject/lib/python3.9/site-packages/pandas/core/indexes/base.py:6212\u001b[0m, in \u001b[0;36mIndex._get_indexer_strict\u001b[0;34m(self, key, axis_name)\u001b[0m\n\u001b[1;32m   6209\u001b[0m \u001b[38;5;28;01melse\u001b[39;00m:\n\u001b[1;32m   6210\u001b[0m     keyarr, indexer, new_indexer \u001b[38;5;241m=\u001b[39m \u001b[38;5;28mself\u001b[39m\u001b[38;5;241m.\u001b[39m_reindex_non_unique(keyarr)\n\u001b[0;32m-> 6212\u001b[0m \u001b[38;5;28;43mself\u001b[39;49m\u001b[38;5;241;43m.\u001b[39;49m\u001b[43m_raise_if_missing\u001b[49m\u001b[43m(\u001b[49m\u001b[43mkeyarr\u001b[49m\u001b[43m,\u001b[49m\u001b[43m \u001b[49m\u001b[43mindexer\u001b[49m\u001b[43m,\u001b[49m\u001b[43m \u001b[49m\u001b[43maxis_name\u001b[49m\u001b[43m)\u001b[49m\n\u001b[1;32m   6214\u001b[0m keyarr \u001b[38;5;241m=\u001b[39m \u001b[38;5;28mself\u001b[39m\u001b[38;5;241m.\u001b[39mtake(indexer)\n\u001b[1;32m   6215\u001b[0m \u001b[38;5;28;01mif\u001b[39;00m \u001b[38;5;28misinstance\u001b[39m(key, Index):\n\u001b[1;32m   6216\u001b[0m     \u001b[38;5;66;03m# GH 42790 - Preserve name from an Index\u001b[39;00m\n",
      "File \u001b[0;32m~/anaconda3/envs/sklearnProject/lib/python3.9/site-packages/pandas/core/indexes/base.py:6261\u001b[0m, in \u001b[0;36mIndex._raise_if_missing\u001b[0;34m(self, key, indexer, axis_name)\u001b[0m\n\u001b[1;32m   6259\u001b[0m \u001b[38;5;28;01mif\u001b[39;00m nmissing:\n\u001b[1;32m   6260\u001b[0m     \u001b[38;5;28;01mif\u001b[39;00m nmissing \u001b[38;5;241m==\u001b[39m \u001b[38;5;28mlen\u001b[39m(indexer):\n\u001b[0;32m-> 6261\u001b[0m         \u001b[38;5;28;01mraise\u001b[39;00m \u001b[38;5;167;01mKeyError\u001b[39;00m(\u001b[38;5;124mf\u001b[39m\u001b[38;5;124m\"\u001b[39m\u001b[38;5;124mNone of [\u001b[39m\u001b[38;5;132;01m{\u001b[39;00mkey\u001b[38;5;132;01m}\u001b[39;00m\u001b[38;5;124m] are in the [\u001b[39m\u001b[38;5;132;01m{\u001b[39;00maxis_name\u001b[38;5;132;01m}\u001b[39;00m\u001b[38;5;124m]\u001b[39m\u001b[38;5;124m\"\u001b[39m)\n\u001b[1;32m   6263\u001b[0m     not_found \u001b[38;5;241m=\u001b[39m \u001b[38;5;28mlist\u001b[39m(ensure_index(key)[missing_mask\u001b[38;5;241m.\u001b[39mnonzero()[\u001b[38;5;241m0\u001b[39m]]\u001b[38;5;241m.\u001b[39munique())\n\u001b[1;32m   6264\u001b[0m     \u001b[38;5;28;01mraise\u001b[39;00m \u001b[38;5;167;01mKeyError\u001b[39;00m(\u001b[38;5;124mf\u001b[39m\u001b[38;5;124m\"\u001b[39m\u001b[38;5;132;01m{\u001b[39;00mnot_found\u001b[38;5;132;01m}\u001b[39;00m\u001b[38;5;124m not in index\u001b[39m\u001b[38;5;124m\"\u001b[39m)\n",
      "\u001b[0;31mKeyError\u001b[0m: \"None of [Index([  2,   3,   4,   5,   6,   9,  10,  12,  13,  16,  23,  27,  29,  37,\\n        40,  41,  48,  59,  66,  69,  72,  73,  75,  79,  81,  82,  87,  94,\\n        97, 100, 102, 104, 108, 110, 111, 117, 118, 119, 120, 121, 125, 128,\\n       135, 136, 141, 142, 144, 145, 147, 151, 153, 154],\\n      dtype='int64')] are in the [columns]\""
     ]
    }
   ],
   "source": [
    "kf=KFold(n_splits=3,shuffle=True, random_state=37)\n",
    "#this gives you inexes to control the proces better your self indexes of the folds\n",
    "for train_index,test_index in kf.split(df.drop(\"country\",axis=1)):\n",
    "    print(\"train_index\",train_index,\"=*1024\")\n",
    "    print(df[test_index])"
   ]
  },
  {
   "cell_type": "markdown",
   "id": "17a95977",
   "metadata": {},
   "source": [
    "parameter optimization can be done in 3 ways:\n",
    "\n",
    "    - Manual wich  is slow and requires reading  alot of documentation\n",
    "    - Grid Cv: algorithm implemented in sklearn  where you difine  a grid of hyper      parameters and  its try and error and picked the best one\n",
    "    - randomized search: you define the ranges and  the algorithm  prives  random   combinations."
   ]
  },
  {
   "cell_type": "code",
   "execution_count": 10,
   "id": "3ab078cf",
   "metadata": {},
   "outputs": [
    {
     "name": "stdout",
     "output_type": "stream",
     "text": [
      "RandomForestRegressor(max_depth=8, n_estimators=9)\n",
      "[7.48822228]\n"
     ]
    }
   ],
   "source": [
    "from sklearn.model_selection import RandomizedSearchCV\n",
    "from sklearn.ensemble import RandomForestRegressor\n",
    "reg= RandomForestRegressor()\n",
    "grid={\n",
    "    \"n_estimators\":range(4,16),\n",
    "    \"criterion\":['squared_error','absolute_error'],\n",
    "    \"max_depth\": range(2,10)\n",
    "}\n",
    "X=df.drop([\"country\",\"rank\",\"score\"],axis=1)\n",
    "Y=df[\"score\"]\n",
    "rand_estimation=RandomizedSearchCV(reg,grid,n_iter=10,scoring='neg_mean_absolute_error').fit(X,Y)\n",
    "print(rand_estimation.best_estimator_)\n",
    "print(rand_estimation.predict(X.loc[[0]]))"
   ]
  },
  {
   "cell_type": "markdown",
   "id": "2f11da4e",
   "metadata": {},
   "source": []
  }
 ],
 "metadata": {
  "kernelspec": {
   "display_name": "sklearnProject",
   "language": "python",
   "name": "python3"
  },
  "language_info": {
   "codemirror_mode": {
    "name": "ipython",
    "version": 3
   },
   "file_extension": ".py",
   "mimetype": "text/x-python",
   "name": "python",
   "nbconvert_exporter": "python",
   "pygments_lexer": "ipython3",
   "version": "3.9.23"
  }
 },
 "nbformat": 4,
 "nbformat_minor": 5
}
