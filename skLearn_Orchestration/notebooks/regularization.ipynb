{
 "cells": [
  {
   "cell_type": "markdown",
   "id": "2d8e8d08",
   "metadata": {},
   "source": [
    "more bias towards true values to  gain less variance towars all values . aka: les over fitting better generalization.\n",
    "Lasso: matematic way to  convert the \"saying\" of less important features to 0\n",
    "Ridege: a higth penalty on this features so they dont become 0 but have a low impact on prediction\n",
    "Elasticnet:conbines the 2 above.\n",
    "\n",
    "The advice: lots of important features? use ridge, else lasso."
   ]
  },
  {
   "cell_type": "code",
   "execution_count": null,
   "id": "782153fa",
   "metadata": {},
   "outputs": [],
   "source": [
    "### Explanation of the dataset features\n",
    "\n",
    "- **gdp**: Gross Domestic Product per capita. Represents the average economic wealth of a country's inhabitants.\n",
    "- **family**: Social support or the ability to rely on family or friends in times of need.\n",
    "- **lifeexp**: Life expectancy at birth. Indicates the average health and longevity of the population.tion.\n",
    "- **freedom**: Freedom to make life choices.\n",
    "- **corruptions**: Perception of corruption in government and institutions.\n",
    "- **distopia**: Reference value representing the worst possible scenario for each of the indicators."
   ]
  },
  {
   "cell_type": "code",
   "execution_count": null,
   "id": "ae0bf9b7",
   "metadata": {},
   "outputs": [],
   "source": [
    "import pandas as pd\n",
    "import sklearn\n",
    "import matplotlib.pyplot as plt  # Fixed: 'matplotlib as plt' → 'matplotlib.pyplot as plt'\n",
    "\n",
    "from sklearn.decomposition import PCA, IncrementalPCA\n",
    "from sklearn.preprocessing import StandardScaler  # Fixed: 'StandarScaler' → 'StandardScaler'\n",
    "from sklearn.linear_model import LinearRegrettion,Laso,Ridge\n",
    "from sklearn.model_selection import train_test_split\n",
    "from skleanr.metrics import mean_square_error\n",
    "\n",
    "path=\"/home/dan/PLATZI/data/SKlearn_Orchestration/skLearn_Orchestration/data/third_part/\"\n",
    "file=\"felicidad.csv\"\n",
    "df=pd.read_csv(path+file)\n",
    "features_df=df.drop([\"score\"], axis=1)\n",
    "target=df[\"score\"]"
   ]
  },
  {
   "cell_type": "code",
   "execution_count": null,
   "metadata": {},
   "outputs": [],
   "source": []
  },
  {
   "cell_type": "markdown",
   "id": "6c083ce9",
   "metadata": {},
   "source": []
  }
 ],
 "metadata": {
  "kernelspec": {
   "display_name": "sklearnProject",
   "language": "python",
   "name": "python3"
  },
  "language_info": {
   "name": "python",
   "version": "3.9.23"
  }
 },
 "nbformat": 4,
 "nbformat_minor": 5
}
