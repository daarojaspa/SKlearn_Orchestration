{
 "cells": [
  {
   "cell_type": "markdown",
   "id": "2d8e8d08",
   "metadata": {},
   "source": [
    "# Regularization\n",
    "More bias toward true values to gain less variance across all values — a.k.a. **less overfitting** and **better generalization**.\n",
    "\n",
    "- **Lasso**: A mathematical way to reduce the impact of less important features by shrinking their coefficients to **0**.\n",
    "- **Ridge**: Applies a high penalty to features so they **don’t become 0**, but have **low impact** on prediction.\n",
    "- **ElasticNet**: Combines both Lasso and Ridge regularization.\n",
    "\n",
    "**Advice**:  \n",
    "- If you have **many important features**, use **Ridge**.  \n",
    "- Otherwise, use **Lasso**.\n"
   ]
  },
  {
   "cell_type": "markdown",
   "id": "782153fa",
   "metadata": {},
   "source": [
    "### Explanation of the dataset features\n",
    "\n",
    "- **gdp**: Gross Domestic Product per capita. Represents the average economic wealth of a country's inhabitants.\n",
    "- **family**: Social support or the ability to rely on family or friends in times of need.\n",
    "- **lifeexp**: Life expectancy at birth. Indicates the average health and longevity of the population.tion.\n",
    "- **freedom**: Freedom to make life choices.\n",
    "- **corruptions**: Perception of corruption in government and institutions.\n",
    "- **distopia**: Reference value representing the worst possible scenario for each of the indicators."
   ]
  },
  {
   "cell_type": "code",
   "execution_count": 12,
   "id": "ae0bf9b7",
   "metadata": {},
   "outputs": [
    {
     "data": {
      "text/html": [
       "<div>\n",
       "<style scoped>\n",
       "    .dataframe tbody tr th:only-of-type {\n",
       "        vertical-align: middle;\n",
       "    }\n",
       "\n",
       "    .dataframe tbody tr th {\n",
       "        vertical-align: top;\n",
       "    }\n",
       "\n",
       "    .dataframe thead th {\n",
       "        text-align: right;\n",
       "    }\n",
       "</style>\n",
       "<table border=\"1\" class=\"dataframe\">\n",
       "  <thead>\n",
       "    <tr style=\"text-align: right;\">\n",
       "      <th></th>\n",
       "      <th>gdp</th>\n",
       "      <th>family</th>\n",
       "      <th>lifexp</th>\n",
       "      <th>freedom</th>\n",
       "      <th>generosity</th>\n",
       "      <th>corruption</th>\n",
       "      <th>dystopia</th>\n",
       "    </tr>\n",
       "  </thead>\n",
       "  <tbody>\n",
       "    <tr>\n",
       "      <th>27</th>\n",
       "      <td>1.217560</td>\n",
       "      <td>1.412228</td>\n",
       "      <td>0.719217</td>\n",
       "      <td>0.579392</td>\n",
       "      <td>0.175097</td>\n",
       "      <td>0.178062</td>\n",
       "      <td>2.172410</td>\n",
       "    </tr>\n",
       "    <tr>\n",
       "      <th>141</th>\n",
       "      <td>1.122094</td>\n",
       "      <td>1.221555</td>\n",
       "      <td>0.341756</td>\n",
       "      <td>0.505196</td>\n",
       "      <td>0.099348</td>\n",
       "      <td>0.098583</td>\n",
       "      <td>0.377914</td>\n",
       "    </tr>\n",
       "    <tr>\n",
       "      <th>80</th>\n",
       "      <td>0.995539</td>\n",
       "      <td>1.274445</td>\n",
       "      <td>0.492346</td>\n",
       "      <td>0.443323</td>\n",
       "      <td>0.611705</td>\n",
       "      <td>0.015317</td>\n",
       "      <td>1.429477</td>\n",
       "    </tr>\n",
       "    <tr>\n",
       "      <th>123</th>\n",
       "      <td>0.808964</td>\n",
       "      <td>0.832044</td>\n",
       "      <td>0.289957</td>\n",
       "      <td>0.435026</td>\n",
       "      <td>0.120852</td>\n",
       "      <td>0.079618</td>\n",
       "      <td>1.724136</td>\n",
       "    </tr>\n",
       "  </tbody>\n",
       "</table>\n",
       "</div>"
      ],
      "text/plain": [
       "          gdp    family    lifexp   freedom  generosity  corruption  dystopia\n",
       "27   1.217560  1.412228  0.719217  0.579392    0.175097    0.178062  2.172410\n",
       "141  1.122094  1.221555  0.341756  0.505196    0.099348    0.098583  0.377914\n",
       "80   0.995539  1.274445  0.492346  0.443323    0.611705    0.015317  1.429477\n",
       "123  0.808964  0.832044  0.289957  0.435026    0.120852    0.079618  1.724136"
      ]
     },
     "execution_count": 12,
     "metadata": {},
     "output_type": "execute_result"
    }
   ],
   "source": [
    "import pandas as pd\n",
    "import sklearn\n",
    "import matplotlib.pyplot as plt  # Fixed: 'matplotlib as plt' → 'matplotlib.pyplot as plt'\n",
    "\n",
    "from sklearn.decomposition import PCA, IncrementalPCA\n",
    "from sklearn.preprocessing import StandardScaler  # Fixed: 'StandarScaler' → 'StandardScaler'\n",
    "from sklearn.linear_model import LinearRegression,Lasso,Ridge\n",
    "from sklearn.model_selection import train_test_split\n",
    "from sklearn.metrics import mean_squared_error\n",
    "\n",
    "path=\"/home/dan/PLATZI/data/SKlearn_Orchestration/skLearn_Orchestration/data/third_part/\"\n",
    "file=\"felicidad.csv\"\n",
    "df=pd.read_csv(path+file)\n",
    "features_df=df.drop([\"country\",\"rank\", \"high\",\"low\",\"score\"], axis=1)\n",
    "target=df[\"score\"]\n",
    "features_df.shape\n",
    "features_df.sample(4)"
   ]
  },
  {
   "cell_type": "code",
   "execution_count": 13,
   "id": "92315152",
   "metadata": {},
   "outputs": [],
   "source": [
    "#normalization\n",
    "#split\n",
    "X_train,X_test,Y_train,Y_test=train_test_split(features_df,target,test_size=0.25,random_state=37)\n",
    "model =LinearRegression().fit(X_train,Y_train)\n",
    "lineal_pred=model.predict(X_test)\n",
    "Lasso =Lasso(alpha=0.1).fit(X_train,Y_train)\n",
    "lasso_pred=Lasso.predict(X_test)\n",
    "ridge=Ridge(alpha=0.1).fit(X_train,Y_train)\n",
    "ridge_pred=ridge.predict(X_test)\n"
   ]
  },
  {
   "cell_type": "code",
   "execution_count": 14,
   "metadata": {},
   "outputs": [
    {
     "name": "stdout",
     "output_type": "stream",
     "text": [
      "Linear Regression Loss: 9.581675773302601e-08\n",
      "Lasso Regression Loss: 0.44512158491881276\n",
      "Ridge Regression Loss: 0.00010388580545959077\n"
     ]
    }
   ],
   "source": [
    "linear_loss=mean_squared_error(Y_test,lineal_pred)\n",
    "lasso_loss=mean_squared_error(Y_test,lasso_pred)\n",
    "ridge_loss=mean_squared_error(Y_test,ridge_pred)    \n",
    "print(\"Linear Regression Loss:\", linear_loss)\n",
    "print(\"Lasso Regression Loss:\", lasso_loss)\n",
    "print(\"Ridge Regression Loss:\", ridge_loss)"
   ]
  },
  {
   "cell_type": "markdown",
   "id": "6c083ce9",
   "metadata": {},
   "source": []
  },
  {
   "cell_type": "code",
   "execution_count": 16,
   "id": "0e8f2aaa",
   "metadata": {},
   "outputs": [
    {
     "name": "stdout",
     "output_type": "stream",
     "text": [
      "Linear Regression Coefficients: [1.00023339 0.99979398 0.99978691 1.00002994 1.0001342  0.9999504\n",
      " 0.99992823]\n",
      "Lasso Coefficients: [1.4639291  0.         0.         0.         0.         0.\n",
      " 0.54695934]\n",
      "Ridge Coefficients: [1.01402108 0.99224837 0.97737508 0.99999083 0.9688058  0.93750682\n",
      " 0.99338599]\n"
     ]
    }
   ],
   "source": [
    "print (\"Linear Regression Coefficients:\", model.coef_)\n",
    "print (\"Lasso Coefficients:\", Lasso.coef_)\n",
    "print (\"Ridge Coefficients:\", ridge.coef_)"
   ]
  },
  {
   "cell_type": "code",
   "execution_count": null,
   "id": "fccceffd",
   "metadata": {},
   "outputs": [],
   "source": []
  }
 ],
 "metadata": {
  "kernelspec": {
   "display_name": "sklearnProject",
   "language": "python",
   "name": "python3"
  },
  "language_info": {
   "codemirror_mode": {
    "name": "ipython",
    "version": 3
   },
   "file_extension": ".py",
   "mimetype": "text/x-python",
   "name": "python",
   "nbconvert_exporter": "python",
   "pygments_lexer": "ipython3",
   "version": "3.9.23"
  }
 },
 "nbformat": 4,
 "nbformat_minor": 5
}
